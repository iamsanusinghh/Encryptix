{
 "cells": [
  {
   "cell_type": "code",
   "execution_count": 1,
   "id": "634bcffa",
   "metadata": {
    "execution": {
     "iopub.execute_input": "2024-08-30T22:30:53.918864Z",
     "iopub.status.busy": "2024-08-30T22:30:53.918378Z",
     "iopub.status.idle": "2024-08-30T22:30:56.595195Z",
     "shell.execute_reply": "2024-08-30T22:30:56.593544Z"
    },
    "papermill": {
     "duration": 2.695534,
     "end_time": "2024-08-30T22:30:56.598455",
     "exception": false,
     "start_time": "2024-08-30T22:30:53.902921",
     "status": "completed"
    },
    "tags": []
   },
   "outputs": [
    {
     "name": "stdout",
     "output_type": "stream",
     "text": [
      "/kaggle/input/creditcardfraud/creditcard.csv\n"
     ]
    }
   ],
   "source": [
    "\n",
    "import numpy as np\n",
    "import pandas as pd\n",
    "from sklearn.model_selection import train_test_split\n",
    "from sklearn.linear_model import LogisticRegression\n",
    "from sklearn.metrics import accuracy_score\n",
    "\n",
    "import os\n",
    "for dirname, _, filenames in os.walk('/kaggle/input'):\n",
    "    for filename in filenames:\n",
    "        print(os.path.join(dirname, filename))\n",
    "\n",
    "# You can write up to 20GB to the current directory (/kaggle/working/) that gets preserved as output when you create a version using \"Save & Run All\" \n",
    "# You can also write temporary files to /kaggle/temp/, but they won't be saved outside of the current session"
   ]
  },
  {
   "cell_type": "code",
   "execution_count": 2,
   "id": "7e1e9de0",
   "metadata": {
    "execution": {
     "iopub.execute_input": "2024-08-30T22:30:56.626953Z",
     "iopub.status.busy": "2024-08-30T22:30:56.626326Z",
     "iopub.status.idle": "2024-08-30T22:31:01.538854Z",
     "shell.execute_reply": "2024-08-30T22:31:01.537514Z"
    },
    "papermill": {
     "duration": 4.930441,
     "end_time": "2024-08-30T22:31:01.541969",
     "exception": false,
     "start_time": "2024-08-30T22:30:56.611528",
     "status": "completed"
    },
    "tags": []
   },
   "outputs": [],
   "source": [
    "df =pd.read_csv(\"/kaggle/input/creditcardfraud/creditcard.csv\")"
   ]
  },
  {
   "cell_type": "code",
   "execution_count": 3,
   "id": "93710332",
   "metadata": {
    "execution": {
     "iopub.execute_input": "2024-08-30T22:31:01.568505Z",
     "iopub.status.busy": "2024-08-30T22:31:01.568018Z",
     "iopub.status.idle": "2024-08-30T22:31:01.618698Z",
     "shell.execute_reply": "2024-08-30T22:31:01.617386Z"
    },
    "papermill": {
     "duration": 0.067699,
     "end_time": "2024-08-30T22:31:01.622014",
     "exception": false,
     "start_time": "2024-08-30T22:31:01.554315",
     "status": "completed"
    },
    "tags": []
   },
   "outputs": [
    {
     "data": {
      "text/html": [
       "<div>\n",
       "<style scoped>\n",
       "    .dataframe tbody tr th:only-of-type {\n",
       "        vertical-align: middle;\n",
       "    }\n",
       "\n",
       "    .dataframe tbody tr th {\n",
       "        vertical-align: top;\n",
       "    }\n",
       "\n",
       "    .dataframe thead th {\n",
       "        text-align: right;\n",
       "    }\n",
       "</style>\n",
       "<table border=\"1\" class=\"dataframe\">\n",
       "  <thead>\n",
       "    <tr style=\"text-align: right;\">\n",
       "      <th></th>\n",
       "      <th>Time</th>\n",
       "      <th>V1</th>\n",
       "      <th>V2</th>\n",
       "      <th>V3</th>\n",
       "      <th>V4</th>\n",
       "      <th>V5</th>\n",
       "      <th>V6</th>\n",
       "      <th>V7</th>\n",
       "      <th>V8</th>\n",
       "      <th>V9</th>\n",
       "      <th>...</th>\n",
       "      <th>V21</th>\n",
       "      <th>V22</th>\n",
       "      <th>V23</th>\n",
       "      <th>V24</th>\n",
       "      <th>V25</th>\n",
       "      <th>V26</th>\n",
       "      <th>V27</th>\n",
       "      <th>V28</th>\n",
       "      <th>Amount</th>\n",
       "      <th>Class</th>\n",
       "    </tr>\n",
       "  </thead>\n",
       "  <tbody>\n",
       "    <tr>\n",
       "      <th>0</th>\n",
       "      <td>0.0</td>\n",
       "      <td>-1.359807</td>\n",
       "      <td>-0.072781</td>\n",
       "      <td>2.536347</td>\n",
       "      <td>1.378155</td>\n",
       "      <td>-0.338321</td>\n",
       "      <td>0.462388</td>\n",
       "      <td>0.239599</td>\n",
       "      <td>0.098698</td>\n",
       "      <td>0.363787</td>\n",
       "      <td>...</td>\n",
       "      <td>-0.018307</td>\n",
       "      <td>0.277838</td>\n",
       "      <td>-0.110474</td>\n",
       "      <td>0.066928</td>\n",
       "      <td>0.128539</td>\n",
       "      <td>-0.189115</td>\n",
       "      <td>0.133558</td>\n",
       "      <td>-0.021053</td>\n",
       "      <td>149.62</td>\n",
       "      <td>0</td>\n",
       "    </tr>\n",
       "    <tr>\n",
       "      <th>1</th>\n",
       "      <td>0.0</td>\n",
       "      <td>1.191857</td>\n",
       "      <td>0.266151</td>\n",
       "      <td>0.166480</td>\n",
       "      <td>0.448154</td>\n",
       "      <td>0.060018</td>\n",
       "      <td>-0.082361</td>\n",
       "      <td>-0.078803</td>\n",
       "      <td>0.085102</td>\n",
       "      <td>-0.255425</td>\n",
       "      <td>...</td>\n",
       "      <td>-0.225775</td>\n",
       "      <td>-0.638672</td>\n",
       "      <td>0.101288</td>\n",
       "      <td>-0.339846</td>\n",
       "      <td>0.167170</td>\n",
       "      <td>0.125895</td>\n",
       "      <td>-0.008983</td>\n",
       "      <td>0.014724</td>\n",
       "      <td>2.69</td>\n",
       "      <td>0</td>\n",
       "    </tr>\n",
       "    <tr>\n",
       "      <th>2</th>\n",
       "      <td>1.0</td>\n",
       "      <td>-1.358354</td>\n",
       "      <td>-1.340163</td>\n",
       "      <td>1.773209</td>\n",
       "      <td>0.379780</td>\n",
       "      <td>-0.503198</td>\n",
       "      <td>1.800499</td>\n",
       "      <td>0.791461</td>\n",
       "      <td>0.247676</td>\n",
       "      <td>-1.514654</td>\n",
       "      <td>...</td>\n",
       "      <td>0.247998</td>\n",
       "      <td>0.771679</td>\n",
       "      <td>0.909412</td>\n",
       "      <td>-0.689281</td>\n",
       "      <td>-0.327642</td>\n",
       "      <td>-0.139097</td>\n",
       "      <td>-0.055353</td>\n",
       "      <td>-0.059752</td>\n",
       "      <td>378.66</td>\n",
       "      <td>0</td>\n",
       "    </tr>\n",
       "    <tr>\n",
       "      <th>3</th>\n",
       "      <td>1.0</td>\n",
       "      <td>-0.966272</td>\n",
       "      <td>-0.185226</td>\n",
       "      <td>1.792993</td>\n",
       "      <td>-0.863291</td>\n",
       "      <td>-0.010309</td>\n",
       "      <td>1.247203</td>\n",
       "      <td>0.237609</td>\n",
       "      <td>0.377436</td>\n",
       "      <td>-1.387024</td>\n",
       "      <td>...</td>\n",
       "      <td>-0.108300</td>\n",
       "      <td>0.005274</td>\n",
       "      <td>-0.190321</td>\n",
       "      <td>-1.175575</td>\n",
       "      <td>0.647376</td>\n",
       "      <td>-0.221929</td>\n",
       "      <td>0.062723</td>\n",
       "      <td>0.061458</td>\n",
       "      <td>123.50</td>\n",
       "      <td>0</td>\n",
       "    </tr>\n",
       "    <tr>\n",
       "      <th>4</th>\n",
       "      <td>2.0</td>\n",
       "      <td>-1.158233</td>\n",
       "      <td>0.877737</td>\n",
       "      <td>1.548718</td>\n",
       "      <td>0.403034</td>\n",
       "      <td>-0.407193</td>\n",
       "      <td>0.095921</td>\n",
       "      <td>0.592941</td>\n",
       "      <td>-0.270533</td>\n",
       "      <td>0.817739</td>\n",
       "      <td>...</td>\n",
       "      <td>-0.009431</td>\n",
       "      <td>0.798278</td>\n",
       "      <td>-0.137458</td>\n",
       "      <td>0.141267</td>\n",
       "      <td>-0.206010</td>\n",
       "      <td>0.502292</td>\n",
       "      <td>0.219422</td>\n",
       "      <td>0.215153</td>\n",
       "      <td>69.99</td>\n",
       "      <td>0</td>\n",
       "    </tr>\n",
       "  </tbody>\n",
       "</table>\n",
       "<p>5 rows × 31 columns</p>\n",
       "</div>"
      ],
      "text/plain": [
       "   Time        V1        V2        V3        V4        V5        V6        V7  \\\n",
       "0   0.0 -1.359807 -0.072781  2.536347  1.378155 -0.338321  0.462388  0.239599   \n",
       "1   0.0  1.191857  0.266151  0.166480  0.448154  0.060018 -0.082361 -0.078803   \n",
       "2   1.0 -1.358354 -1.340163  1.773209  0.379780 -0.503198  1.800499  0.791461   \n",
       "3   1.0 -0.966272 -0.185226  1.792993 -0.863291 -0.010309  1.247203  0.237609   \n",
       "4   2.0 -1.158233  0.877737  1.548718  0.403034 -0.407193  0.095921  0.592941   \n",
       "\n",
       "         V8        V9  ...       V21       V22       V23       V24       V25  \\\n",
       "0  0.098698  0.363787  ... -0.018307  0.277838 -0.110474  0.066928  0.128539   \n",
       "1  0.085102 -0.255425  ... -0.225775 -0.638672  0.101288 -0.339846  0.167170   \n",
       "2  0.247676 -1.514654  ...  0.247998  0.771679  0.909412 -0.689281 -0.327642   \n",
       "3  0.377436 -1.387024  ... -0.108300  0.005274 -0.190321 -1.175575  0.647376   \n",
       "4 -0.270533  0.817739  ... -0.009431  0.798278 -0.137458  0.141267 -0.206010   \n",
       "\n",
       "        V26       V27       V28  Amount  Class  \n",
       "0 -0.189115  0.133558 -0.021053  149.62      0  \n",
       "1  0.125895 -0.008983  0.014724    2.69      0  \n",
       "2 -0.139097 -0.055353 -0.059752  378.66      0  \n",
       "3 -0.221929  0.062723  0.061458  123.50      0  \n",
       "4  0.502292  0.219422  0.215153   69.99      0  \n",
       "\n",
       "[5 rows x 31 columns]"
      ]
     },
     "execution_count": 3,
     "metadata": {},
     "output_type": "execute_result"
    }
   ],
   "source": [
    "df.head()"
   ]
  },
  {
   "cell_type": "code",
   "execution_count": 4,
   "id": "4762ac0b",
   "metadata": {
    "execution": {
     "iopub.execute_input": "2024-08-30T22:31:01.650227Z",
     "iopub.status.busy": "2024-08-30T22:31:01.649741Z",
     "iopub.status.idle": "2024-08-30T22:31:01.691756Z",
     "shell.execute_reply": "2024-08-30T22:31:01.690593Z"
    },
    "papermill": {
     "duration": 0.060868,
     "end_time": "2024-08-30T22:31:01.695796",
     "exception": false,
     "start_time": "2024-08-30T22:31:01.634928",
     "status": "completed"
    },
    "tags": []
   },
   "outputs": [
    {
     "name": "stdout",
     "output_type": "stream",
     "text": [
      "<class 'pandas.core.frame.DataFrame'>\n",
      "RangeIndex: 284807 entries, 0 to 284806\n",
      "Data columns (total 31 columns):\n",
      " #   Column  Non-Null Count   Dtype  \n",
      "---  ------  --------------   -----  \n",
      " 0   Time    284807 non-null  float64\n",
      " 1   V1      284807 non-null  float64\n",
      " 2   V2      284807 non-null  float64\n",
      " 3   V3      284807 non-null  float64\n",
      " 4   V4      284807 non-null  float64\n",
      " 5   V5      284807 non-null  float64\n",
      " 6   V6      284807 non-null  float64\n",
      " 7   V7      284807 non-null  float64\n",
      " 8   V8      284807 non-null  float64\n",
      " 9   V9      284807 non-null  float64\n",
      " 10  V10     284807 non-null  float64\n",
      " 11  V11     284807 non-null  float64\n",
      " 12  V12     284807 non-null  float64\n",
      " 13  V13     284807 non-null  float64\n",
      " 14  V14     284807 non-null  float64\n",
      " 15  V15     284807 non-null  float64\n",
      " 16  V16     284807 non-null  float64\n",
      " 17  V17     284807 non-null  float64\n",
      " 18  V18     284807 non-null  float64\n",
      " 19  V19     284807 non-null  float64\n",
      " 20  V20     284807 non-null  float64\n",
      " 21  V21     284807 non-null  float64\n",
      " 22  V22     284807 non-null  float64\n",
      " 23  V23     284807 non-null  float64\n",
      " 24  V24     284807 non-null  float64\n",
      " 25  V25     284807 non-null  float64\n",
      " 26  V26     284807 non-null  float64\n",
      " 27  V27     284807 non-null  float64\n",
      " 28  V28     284807 non-null  float64\n",
      " 29  Amount  284807 non-null  float64\n",
      " 30  Class   284807 non-null  int64  \n",
      "dtypes: float64(30), int64(1)\n",
      "memory usage: 67.4 MB\n"
     ]
    }
   ],
   "source": [
    "df.info()"
   ]
  },
  {
   "cell_type": "code",
   "execution_count": 5,
   "id": "0fdbbefe",
   "metadata": {
    "execution": {
     "iopub.execute_input": "2024-08-30T22:31:01.725628Z",
     "iopub.status.busy": "2024-08-30T22:31:01.725168Z",
     "iopub.status.idle": "2024-08-30T22:31:01.733855Z",
     "shell.execute_reply": "2024-08-30T22:31:01.732518Z"
    },
    "papermill": {
     "duration": 0.027108,
     "end_time": "2024-08-30T22:31:01.736698",
     "exception": false,
     "start_time": "2024-08-30T22:31:01.709590",
     "status": "completed"
    },
    "tags": []
   },
   "outputs": [
    {
     "data": {
      "text/plain": [
       "Index(['Time', 'V1', 'V2', 'V3', 'V4', 'V5', 'V6', 'V7', 'V8', 'V9', 'V10',\n",
       "       'V11', 'V12', 'V13', 'V14', 'V15', 'V16', 'V17', 'V18', 'V19', 'V20',\n",
       "       'V21', 'V22', 'V23', 'V24', 'V25', 'V26', 'V27', 'V28', 'Amount',\n",
       "       'Class'],\n",
       "      dtype='object')"
      ]
     },
     "execution_count": 5,
     "metadata": {},
     "output_type": "execute_result"
    }
   ],
   "source": [
    "df.columns"
   ]
  },
  {
   "cell_type": "markdown",
   "id": "a37878e0",
   "metadata": {
    "papermill": {
     "duration": 0.013488,
     "end_time": "2024-08-30T22:31:01.763353",
     "exception": false,
     "start_time": "2024-08-30T22:31:01.749865",
     "status": "completed"
    },
    "tags": []
   },
   "source": [
    "1= Fraud ,\n",
    "0= normal transaction "
   ]
  },
  {
   "cell_type": "code",
   "execution_count": 6,
   "id": "db92b0a7",
   "metadata": {
    "execution": {
     "iopub.execute_input": "2024-08-30T22:31:01.794908Z",
     "iopub.status.busy": "2024-08-30T22:31:01.794447Z",
     "iopub.status.idle": "2024-08-30T22:31:01.809884Z",
     "shell.execute_reply": "2024-08-30T22:31:01.808585Z"
    },
    "papermill": {
     "duration": 0.033788,
     "end_time": "2024-08-30T22:31:01.812626",
     "exception": false,
     "start_time": "2024-08-30T22:31:01.778838",
     "status": "completed"
    },
    "tags": []
   },
   "outputs": [
    {
     "data": {
      "text/plain": [
       "Class\n",
       "0    284315\n",
       "1       492\n",
       "Name: count, dtype: int64"
      ]
     },
     "execution_count": 6,
     "metadata": {},
     "output_type": "execute_result"
    }
   ],
   "source": [
    "df[\"Class\"].value_counts()"
   ]
  },
  {
   "cell_type": "markdown",
   "id": "c41d08d8",
   "metadata": {
    "papermill": {
     "duration": 0.012648,
     "end_time": "2024-08-30T22:31:01.838887",
     "exception": false,
     "start_time": "2024-08-30T22:31:01.826239",
     "status": "completed"
    },
    "tags": []
   },
   "source": [
    "**preprocessing data**"
   ]
  },
  {
   "cell_type": "code",
   "execution_count": 7,
   "id": "4faf5e39",
   "metadata": {
    "execution": {
     "iopub.execute_input": "2024-08-30T22:31:01.868999Z",
     "iopub.status.busy": "2024-08-30T22:31:01.868546Z",
     "iopub.status.idle": "2024-08-30T22:31:01.912484Z",
     "shell.execute_reply": "2024-08-30T22:31:01.910928Z"
    },
    "papermill": {
     "duration": 0.062378,
     "end_time": "2024-08-30T22:31:01.915545",
     "exception": false,
     "start_time": "2024-08-30T22:31:01.853167",
     "status": "completed"
    },
    "tags": []
   },
   "outputs": [],
   "source": [
    "#separate the data\n",
    "nt=df[df[\"Class\"]==0]\n",
    "ft=df[df[\"Class\"]==1]"
   ]
  },
  {
   "cell_type": "code",
   "execution_count": 8,
   "id": "b0e95c5c",
   "metadata": {
    "execution": {
     "iopub.execute_input": "2024-08-30T22:31:01.943784Z",
     "iopub.status.busy": "2024-08-30T22:31:01.943308Z",
     "iopub.status.idle": "2024-08-30T22:31:01.951534Z",
     "shell.execute_reply": "2024-08-30T22:31:01.950205Z"
    },
    "papermill": {
     "duration": 0.025813,
     "end_time": "2024-08-30T22:31:01.954589",
     "exception": false,
     "start_time": "2024-08-30T22:31:01.928776",
     "status": "completed"
    },
    "tags": []
   },
   "outputs": [
    {
     "data": {
      "text/plain": [
       "(284315, 31)"
      ]
     },
     "execution_count": 8,
     "metadata": {},
     "output_type": "execute_result"
    }
   ],
   "source": [
    "nt.shape"
   ]
  },
  {
   "cell_type": "code",
   "execution_count": 9,
   "id": "68455362",
   "metadata": {
    "execution": {
     "iopub.execute_input": "2024-08-30T22:31:01.983848Z",
     "iopub.status.busy": "2024-08-30T22:31:01.983375Z",
     "iopub.status.idle": "2024-08-30T22:31:01.991793Z",
     "shell.execute_reply": "2024-08-30T22:31:01.990468Z"
    },
    "papermill": {
     "duration": 0.026414,
     "end_time": "2024-08-30T22:31:01.994812",
     "exception": false,
     "start_time": "2024-08-30T22:31:01.968398",
     "status": "completed"
    },
    "tags": []
   },
   "outputs": [
    {
     "data": {
      "text/plain": [
       "(492, 31)"
      ]
     },
     "execution_count": 9,
     "metadata": {},
     "output_type": "execute_result"
    }
   ],
   "source": [
    "ft.shape"
   ]
  },
  {
   "cell_type": "code",
   "execution_count": 10,
   "id": "e8cf6e91",
   "metadata": {
    "execution": {
     "iopub.execute_input": "2024-08-30T22:31:02.024151Z",
     "iopub.status.busy": "2024-08-30T22:31:02.023637Z",
     "iopub.status.idle": "2024-08-30T22:31:02.053366Z",
     "shell.execute_reply": "2024-08-30T22:31:02.051908Z"
    },
    "papermill": {
     "duration": 0.047896,
     "end_time": "2024-08-30T22:31:02.056382",
     "exception": false,
     "start_time": "2024-08-30T22:31:02.008486",
     "status": "completed"
    },
    "tags": []
   },
   "outputs": [
    {
     "data": {
      "text/plain": [
       "count    284315.000000\n",
       "mean         88.291022\n",
       "std         250.105092\n",
       "min           0.000000\n",
       "25%           5.650000\n",
       "50%          22.000000\n",
       "75%          77.050000\n",
       "max       25691.160000\n",
       "Name: Amount, dtype: float64"
      ]
     },
     "execution_count": 10,
     "metadata": {},
     "output_type": "execute_result"
    }
   ],
   "source": [
    "nt[\"Amount\"].describe()"
   ]
  },
  {
   "cell_type": "code",
   "execution_count": 11,
   "id": "2bce93c3",
   "metadata": {
    "execution": {
     "iopub.execute_input": "2024-08-30T22:31:02.086007Z",
     "iopub.status.busy": "2024-08-30T22:31:02.085507Z",
     "iopub.status.idle": "2024-08-30T22:31:02.099132Z",
     "shell.execute_reply": "2024-08-30T22:31:02.097842Z"
    },
    "papermill": {
     "duration": 0.031689,
     "end_time": "2024-08-30T22:31:02.101973",
     "exception": false,
     "start_time": "2024-08-30T22:31:02.070284",
     "status": "completed"
    },
    "tags": []
   },
   "outputs": [
    {
     "data": {
      "text/plain": [
       "count     492.000000\n",
       "mean      122.211321\n",
       "std       256.683288\n",
       "min         0.000000\n",
       "25%         1.000000\n",
       "50%         9.250000\n",
       "75%       105.890000\n",
       "max      2125.870000\n",
       "Name: Amount, dtype: float64"
      ]
     },
     "execution_count": 11,
     "metadata": {},
     "output_type": "execute_result"
    }
   ],
   "source": [
    "ft[\"Amount\"].describe()"
   ]
  },
  {
   "cell_type": "code",
   "execution_count": 12,
   "id": "e89f9a1e",
   "metadata": {
    "execution": {
     "iopub.execute_input": "2024-08-30T22:31:02.133397Z",
     "iopub.status.busy": "2024-08-30T22:31:02.131952Z",
     "iopub.status.idle": "2024-08-30T22:31:02.262597Z",
     "shell.execute_reply": "2024-08-30T22:31:02.260856Z"
    },
    "papermill": {
     "duration": 0.149056,
     "end_time": "2024-08-30T22:31:02.265822",
     "exception": false,
     "start_time": "2024-08-30T22:31:02.116766",
     "status": "completed"
    },
    "tags": []
   },
   "outputs": [],
   "source": [
    "df_class=df.groupby(\"Class\").mean()"
   ]
  },
  {
   "cell_type": "code",
   "execution_count": 13,
   "id": "e239ef13",
   "metadata": {
    "execution": {
     "iopub.execute_input": "2024-08-30T22:31:02.295672Z",
     "iopub.status.busy": "2024-08-30T22:31:02.295111Z",
     "iopub.status.idle": "2024-08-30T22:31:02.323595Z",
     "shell.execute_reply": "2024-08-30T22:31:02.322155Z"
    },
    "papermill": {
     "duration": 0.046738,
     "end_time": "2024-08-30T22:31:02.326434",
     "exception": false,
     "start_time": "2024-08-30T22:31:02.279696",
     "status": "completed"
    },
    "tags": []
   },
   "outputs": [
    {
     "data": {
      "text/html": [
       "<div>\n",
       "<style scoped>\n",
       "    .dataframe tbody tr th:only-of-type {\n",
       "        vertical-align: middle;\n",
       "    }\n",
       "\n",
       "    .dataframe tbody tr th {\n",
       "        vertical-align: top;\n",
       "    }\n",
       "\n",
       "    .dataframe thead th {\n",
       "        text-align: right;\n",
       "    }\n",
       "</style>\n",
       "<table border=\"1\" class=\"dataframe\">\n",
       "  <thead>\n",
       "    <tr style=\"text-align: right;\">\n",
       "      <th></th>\n",
       "      <th>Time</th>\n",
       "      <th>V1</th>\n",
       "      <th>V2</th>\n",
       "      <th>V3</th>\n",
       "      <th>V4</th>\n",
       "      <th>V5</th>\n",
       "      <th>V6</th>\n",
       "      <th>V7</th>\n",
       "      <th>V8</th>\n",
       "      <th>V9</th>\n",
       "      <th>...</th>\n",
       "      <th>V20</th>\n",
       "      <th>V21</th>\n",
       "      <th>V22</th>\n",
       "      <th>V23</th>\n",
       "      <th>V24</th>\n",
       "      <th>V25</th>\n",
       "      <th>V26</th>\n",
       "      <th>V27</th>\n",
       "      <th>V28</th>\n",
       "      <th>Amount</th>\n",
       "    </tr>\n",
       "    <tr>\n",
       "      <th>Class</th>\n",
       "      <th></th>\n",
       "      <th></th>\n",
       "      <th></th>\n",
       "      <th></th>\n",
       "      <th></th>\n",
       "      <th></th>\n",
       "      <th></th>\n",
       "      <th></th>\n",
       "      <th></th>\n",
       "      <th></th>\n",
       "      <th></th>\n",
       "      <th></th>\n",
       "      <th></th>\n",
       "      <th></th>\n",
       "      <th></th>\n",
       "      <th></th>\n",
       "      <th></th>\n",
       "      <th></th>\n",
       "      <th></th>\n",
       "      <th></th>\n",
       "      <th></th>\n",
       "    </tr>\n",
       "  </thead>\n",
       "  <tbody>\n",
       "    <tr>\n",
       "      <th>0</th>\n",
       "      <td>94838.202258</td>\n",
       "      <td>0.008258</td>\n",
       "      <td>-0.006271</td>\n",
       "      <td>0.012171</td>\n",
       "      <td>-0.007860</td>\n",
       "      <td>0.005453</td>\n",
       "      <td>0.002419</td>\n",
       "      <td>0.009637</td>\n",
       "      <td>-0.000987</td>\n",
       "      <td>0.004467</td>\n",
       "      <td>...</td>\n",
       "      <td>-0.000644</td>\n",
       "      <td>-0.001235</td>\n",
       "      <td>-0.000024</td>\n",
       "      <td>0.000070</td>\n",
       "      <td>0.000182</td>\n",
       "      <td>-0.000072</td>\n",
       "      <td>-0.000089</td>\n",
       "      <td>-0.000295</td>\n",
       "      <td>-0.000131</td>\n",
       "      <td>88.291022</td>\n",
       "    </tr>\n",
       "    <tr>\n",
       "      <th>1</th>\n",
       "      <td>80746.806911</td>\n",
       "      <td>-4.771948</td>\n",
       "      <td>3.623778</td>\n",
       "      <td>-7.033281</td>\n",
       "      <td>4.542029</td>\n",
       "      <td>-3.151225</td>\n",
       "      <td>-1.397737</td>\n",
       "      <td>-5.568731</td>\n",
       "      <td>0.570636</td>\n",
       "      <td>-2.581123</td>\n",
       "      <td>...</td>\n",
       "      <td>0.372319</td>\n",
       "      <td>0.713588</td>\n",
       "      <td>0.014049</td>\n",
       "      <td>-0.040308</td>\n",
       "      <td>-0.105130</td>\n",
       "      <td>0.041449</td>\n",
       "      <td>0.051648</td>\n",
       "      <td>0.170575</td>\n",
       "      <td>0.075667</td>\n",
       "      <td>122.211321</td>\n",
       "    </tr>\n",
       "  </tbody>\n",
       "</table>\n",
       "<p>2 rows × 30 columns</p>\n",
       "</div>"
      ],
      "text/plain": [
       "               Time        V1        V2        V3        V4        V5  \\\n",
       "Class                                                                   \n",
       "0      94838.202258  0.008258 -0.006271  0.012171 -0.007860  0.005453   \n",
       "1      80746.806911 -4.771948  3.623778 -7.033281  4.542029 -3.151225   \n",
       "\n",
       "             V6        V7        V8        V9  ...       V20       V21  \\\n",
       "Class                                          ...                       \n",
       "0      0.002419  0.009637 -0.000987  0.004467  ... -0.000644 -0.001235   \n",
       "1     -1.397737 -5.568731  0.570636 -2.581123  ...  0.372319  0.713588   \n",
       "\n",
       "            V22       V23       V24       V25       V26       V27       V28  \\\n",
       "Class                                                                         \n",
       "0     -0.000024  0.000070  0.000182 -0.000072 -0.000089 -0.000295 -0.000131   \n",
       "1      0.014049 -0.040308 -0.105130  0.041449  0.051648  0.170575  0.075667   \n",
       "\n",
       "           Amount  \n",
       "Class              \n",
       "0       88.291022  \n",
       "1      122.211321  \n",
       "\n",
       "[2 rows x 30 columns]"
      ]
     },
     "execution_count": 13,
     "metadata": {},
     "output_type": "execute_result"
    }
   ],
   "source": [
    "df_class"
   ]
  },
  {
   "cell_type": "markdown",
   "id": "352f098d",
   "metadata": {
    "papermill": {
     "duration": 0.015068,
     "end_time": "2024-08-30T22:31:02.356413",
     "exception": false,
     "start_time": "2024-08-30T22:31:02.341345",
     "status": "completed"
    },
    "tags": []
   },
   "source": [
    "Under sampling the dataset "
   ]
  },
  {
   "cell_type": "code",
   "execution_count": 14,
   "id": "1595c7ec",
   "metadata": {
    "execution": {
     "iopub.execute_input": "2024-08-30T22:31:02.387020Z",
     "iopub.status.busy": "2024-08-30T22:31:02.386510Z",
     "iopub.status.idle": "2024-08-30T22:31:02.405610Z",
     "shell.execute_reply": "2024-08-30T22:31:02.404148Z"
    },
    "papermill": {
     "duration": 0.038522,
     "end_time": "2024-08-30T22:31:02.409125",
     "exception": false,
     "start_time": "2024-08-30T22:31:02.370603",
     "status": "completed"
    },
    "tags": []
   },
   "outputs": [],
   "source": [
    "nt=nt.sample(n=492)"
   ]
  },
  {
   "cell_type": "code",
   "execution_count": 15,
   "id": "1b93bf85",
   "metadata": {
    "execution": {
     "iopub.execute_input": "2024-08-30T22:31:02.440014Z",
     "iopub.status.busy": "2024-08-30T22:31:02.439582Z",
     "iopub.status.idle": "2024-08-30T22:31:02.446933Z",
     "shell.execute_reply": "2024-08-30T22:31:02.445657Z"
    },
    "papermill": {
     "duration": 0.026076,
     "end_time": "2024-08-30T22:31:02.449944",
     "exception": false,
     "start_time": "2024-08-30T22:31:02.423868",
     "status": "completed"
    },
    "tags": []
   },
   "outputs": [],
   "source": [
    "new_df = pd.concat([nt, ft], axis=0)"
   ]
  },
  {
   "cell_type": "code",
   "execution_count": 16,
   "id": "625d7152",
   "metadata": {
    "execution": {
     "iopub.execute_input": "2024-08-30T22:31:02.480186Z",
     "iopub.status.busy": "2024-08-30T22:31:02.479690Z",
     "iopub.status.idle": "2024-08-30T22:31:02.515721Z",
     "shell.execute_reply": "2024-08-30T22:31:02.514046Z"
    },
    "papermill": {
     "duration": 0.054714,
     "end_time": "2024-08-30T22:31:02.518910",
     "exception": false,
     "start_time": "2024-08-30T22:31:02.464196",
     "status": "completed"
    },
    "tags": []
   },
   "outputs": [
    {
     "data": {
      "text/html": [
       "<div>\n",
       "<style scoped>\n",
       "    .dataframe tbody tr th:only-of-type {\n",
       "        vertical-align: middle;\n",
       "    }\n",
       "\n",
       "    .dataframe tbody tr th {\n",
       "        vertical-align: top;\n",
       "    }\n",
       "\n",
       "    .dataframe thead th {\n",
       "        text-align: right;\n",
       "    }\n",
       "</style>\n",
       "<table border=\"1\" class=\"dataframe\">\n",
       "  <thead>\n",
       "    <tr style=\"text-align: right;\">\n",
       "      <th></th>\n",
       "      <th>Time</th>\n",
       "      <th>V1</th>\n",
       "      <th>V2</th>\n",
       "      <th>V3</th>\n",
       "      <th>V4</th>\n",
       "      <th>V5</th>\n",
       "      <th>V6</th>\n",
       "      <th>V7</th>\n",
       "      <th>V8</th>\n",
       "      <th>V9</th>\n",
       "      <th>...</th>\n",
       "      <th>V21</th>\n",
       "      <th>V22</th>\n",
       "      <th>V23</th>\n",
       "      <th>V24</th>\n",
       "      <th>V25</th>\n",
       "      <th>V26</th>\n",
       "      <th>V27</th>\n",
       "      <th>V28</th>\n",
       "      <th>Amount</th>\n",
       "      <th>Class</th>\n",
       "    </tr>\n",
       "  </thead>\n",
       "  <tbody>\n",
       "    <tr>\n",
       "      <th>265421</th>\n",
       "      <td>161877.0</td>\n",
       "      <td>1.227499</td>\n",
       "      <td>-1.693221</td>\n",
       "      <td>-0.744231</td>\n",
       "      <td>0.902453</td>\n",
       "      <td>-1.286335</td>\n",
       "      <td>-0.631515</td>\n",
       "      <td>-0.118420</td>\n",
       "      <td>-0.125958</td>\n",
       "      <td>1.195359</td>\n",
       "      <td>...</td>\n",
       "      <td>0.414974</td>\n",
       "      <td>0.372978</td>\n",
       "      <td>-0.153797</td>\n",
       "      <td>0.065462</td>\n",
       "      <td>-0.481362</td>\n",
       "      <td>0.315983</td>\n",
       "      <td>-0.097225</td>\n",
       "      <td>0.022601</td>\n",
       "      <td>405.00</td>\n",
       "      <td>0</td>\n",
       "    </tr>\n",
       "    <tr>\n",
       "      <th>232972</th>\n",
       "      <td>147391.0</td>\n",
       "      <td>2.041198</td>\n",
       "      <td>-0.218276</td>\n",
       "      <td>-1.405547</td>\n",
       "      <td>0.187570</td>\n",
       "      <td>0.001916</td>\n",
       "      <td>-0.781668</td>\n",
       "      <td>-0.043787</td>\n",
       "      <td>-0.090115</td>\n",
       "      <td>0.677407</td>\n",
       "      <td>...</td>\n",
       "      <td>0.273900</td>\n",
       "      <td>0.844092</td>\n",
       "      <td>-0.023770</td>\n",
       "      <td>-0.407890</td>\n",
       "      <td>0.190140</td>\n",
       "      <td>-0.089576</td>\n",
       "      <td>-0.029237</td>\n",
       "      <td>-0.075626</td>\n",
       "      <td>1.00</td>\n",
       "      <td>0</td>\n",
       "    </tr>\n",
       "    <tr>\n",
       "      <th>110850</th>\n",
       "      <td>71999.0</td>\n",
       "      <td>1.272090</td>\n",
       "      <td>-0.207350</td>\n",
       "      <td>-0.226690</td>\n",
       "      <td>-0.478389</td>\n",
       "      <td>0.015834</td>\n",
       "      <td>-0.134279</td>\n",
       "      <td>-0.078940</td>\n",
       "      <td>-0.067544</td>\n",
       "      <td>0.290997</td>\n",
       "      <td>...</td>\n",
       "      <td>-0.016195</td>\n",
       "      <td>-0.052330</td>\n",
       "      <td>-0.159845</td>\n",
       "      <td>-0.856115</td>\n",
       "      <td>0.351511</td>\n",
       "      <td>1.541157</td>\n",
       "      <td>-0.105145</td>\n",
       "      <td>-0.012500</td>\n",
       "      <td>39.99</td>\n",
       "      <td>0</td>\n",
       "    </tr>\n",
       "    <tr>\n",
       "      <th>168812</th>\n",
       "      <td>119395.0</td>\n",
       "      <td>1.423686</td>\n",
       "      <td>-0.697396</td>\n",
       "      <td>-2.285343</td>\n",
       "      <td>1.279685</td>\n",
       "      <td>0.566797</td>\n",
       "      <td>-0.581887</td>\n",
       "      <td>1.051402</td>\n",
       "      <td>-0.338990</td>\n",
       "      <td>-0.428299</td>\n",
       "      <td>...</td>\n",
       "      <td>0.361313</td>\n",
       "      <td>0.367482</td>\n",
       "      <td>-0.252680</td>\n",
       "      <td>0.712799</td>\n",
       "      <td>0.321087</td>\n",
       "      <td>-0.567056</td>\n",
       "      <td>-0.098176</td>\n",
       "      <td>-0.012910</td>\n",
       "      <td>316.96</td>\n",
       "      <td>0</td>\n",
       "    </tr>\n",
       "    <tr>\n",
       "      <th>142547</th>\n",
       "      <td>84783.0</td>\n",
       "      <td>-0.961905</td>\n",
       "      <td>0.660210</td>\n",
       "      <td>2.020333</td>\n",
       "      <td>0.741632</td>\n",
       "      <td>0.790889</td>\n",
       "      <td>-0.159196</td>\n",
       "      <td>0.773506</td>\n",
       "      <td>-0.160110</td>\n",
       "      <td>-0.218417</td>\n",
       "      <td>...</td>\n",
       "      <td>-0.085387</td>\n",
       "      <td>0.044290</td>\n",
       "      <td>-0.390744</td>\n",
       "      <td>0.097777</td>\n",
       "      <td>0.540312</td>\n",
       "      <td>-0.319564</td>\n",
       "      <td>-0.215023</td>\n",
       "      <td>-0.130371</td>\n",
       "      <td>5.56</td>\n",
       "      <td>0</td>\n",
       "    </tr>\n",
       "    <tr>\n",
       "      <th>...</th>\n",
       "      <td>...</td>\n",
       "      <td>...</td>\n",
       "      <td>...</td>\n",
       "      <td>...</td>\n",
       "      <td>...</td>\n",
       "      <td>...</td>\n",
       "      <td>...</td>\n",
       "      <td>...</td>\n",
       "      <td>...</td>\n",
       "      <td>...</td>\n",
       "      <td>...</td>\n",
       "      <td>...</td>\n",
       "      <td>...</td>\n",
       "      <td>...</td>\n",
       "      <td>...</td>\n",
       "      <td>...</td>\n",
       "      <td>...</td>\n",
       "      <td>...</td>\n",
       "      <td>...</td>\n",
       "      <td>...</td>\n",
       "      <td>...</td>\n",
       "    </tr>\n",
       "    <tr>\n",
       "      <th>279863</th>\n",
       "      <td>169142.0</td>\n",
       "      <td>-1.927883</td>\n",
       "      <td>1.125653</td>\n",
       "      <td>-4.518331</td>\n",
       "      <td>1.749293</td>\n",
       "      <td>-1.566487</td>\n",
       "      <td>-2.010494</td>\n",
       "      <td>-0.882850</td>\n",
       "      <td>0.697211</td>\n",
       "      <td>-2.064945</td>\n",
       "      <td>...</td>\n",
       "      <td>0.778584</td>\n",
       "      <td>-0.319189</td>\n",
       "      <td>0.639419</td>\n",
       "      <td>-0.294885</td>\n",
       "      <td>0.537503</td>\n",
       "      <td>0.788395</td>\n",
       "      <td>0.292680</td>\n",
       "      <td>0.147968</td>\n",
       "      <td>390.00</td>\n",
       "      <td>1</td>\n",
       "    </tr>\n",
       "    <tr>\n",
       "      <th>280143</th>\n",
       "      <td>169347.0</td>\n",
       "      <td>1.378559</td>\n",
       "      <td>1.289381</td>\n",
       "      <td>-5.004247</td>\n",
       "      <td>1.411850</td>\n",
       "      <td>0.442581</td>\n",
       "      <td>-1.326536</td>\n",
       "      <td>-1.413170</td>\n",
       "      <td>0.248525</td>\n",
       "      <td>-1.127396</td>\n",
       "      <td>...</td>\n",
       "      <td>0.370612</td>\n",
       "      <td>0.028234</td>\n",
       "      <td>-0.145640</td>\n",
       "      <td>-0.081049</td>\n",
       "      <td>0.521875</td>\n",
       "      <td>0.739467</td>\n",
       "      <td>0.389152</td>\n",
       "      <td>0.186637</td>\n",
       "      <td>0.76</td>\n",
       "      <td>1</td>\n",
       "    </tr>\n",
       "    <tr>\n",
       "      <th>280149</th>\n",
       "      <td>169351.0</td>\n",
       "      <td>-0.676143</td>\n",
       "      <td>1.126366</td>\n",
       "      <td>-2.213700</td>\n",
       "      <td>0.468308</td>\n",
       "      <td>-1.120541</td>\n",
       "      <td>-0.003346</td>\n",
       "      <td>-2.234739</td>\n",
       "      <td>1.210158</td>\n",
       "      <td>-0.652250</td>\n",
       "      <td>...</td>\n",
       "      <td>0.751826</td>\n",
       "      <td>0.834108</td>\n",
       "      <td>0.190944</td>\n",
       "      <td>0.032070</td>\n",
       "      <td>-0.739695</td>\n",
       "      <td>0.471111</td>\n",
       "      <td>0.385107</td>\n",
       "      <td>0.194361</td>\n",
       "      <td>77.89</td>\n",
       "      <td>1</td>\n",
       "    </tr>\n",
       "    <tr>\n",
       "      <th>281144</th>\n",
       "      <td>169966.0</td>\n",
       "      <td>-3.113832</td>\n",
       "      <td>0.585864</td>\n",
       "      <td>-5.399730</td>\n",
       "      <td>1.817092</td>\n",
       "      <td>-0.840618</td>\n",
       "      <td>-2.943548</td>\n",
       "      <td>-2.208002</td>\n",
       "      <td>1.058733</td>\n",
       "      <td>-1.632333</td>\n",
       "      <td>...</td>\n",
       "      <td>0.583276</td>\n",
       "      <td>-0.269209</td>\n",
       "      <td>-0.456108</td>\n",
       "      <td>-0.183659</td>\n",
       "      <td>-0.328168</td>\n",
       "      <td>0.606116</td>\n",
       "      <td>0.884876</td>\n",
       "      <td>-0.253700</td>\n",
       "      <td>245.00</td>\n",
       "      <td>1</td>\n",
       "    </tr>\n",
       "    <tr>\n",
       "      <th>281674</th>\n",
       "      <td>170348.0</td>\n",
       "      <td>1.991976</td>\n",
       "      <td>0.158476</td>\n",
       "      <td>-2.583441</td>\n",
       "      <td>0.408670</td>\n",
       "      <td>1.151147</td>\n",
       "      <td>-0.096695</td>\n",
       "      <td>0.223050</td>\n",
       "      <td>-0.068384</td>\n",
       "      <td>0.577829</td>\n",
       "      <td>...</td>\n",
       "      <td>-0.164350</td>\n",
       "      <td>-0.295135</td>\n",
       "      <td>-0.072173</td>\n",
       "      <td>-0.450261</td>\n",
       "      <td>0.313267</td>\n",
       "      <td>-0.289617</td>\n",
       "      <td>0.002988</td>\n",
       "      <td>-0.015309</td>\n",
       "      <td>42.53</td>\n",
       "      <td>1</td>\n",
       "    </tr>\n",
       "  </tbody>\n",
       "</table>\n",
       "<p>984 rows × 31 columns</p>\n",
       "</div>"
      ],
      "text/plain": [
       "            Time        V1        V2        V3        V4        V5        V6  \\\n",
       "265421  161877.0  1.227499 -1.693221 -0.744231  0.902453 -1.286335 -0.631515   \n",
       "232972  147391.0  2.041198 -0.218276 -1.405547  0.187570  0.001916 -0.781668   \n",
       "110850   71999.0  1.272090 -0.207350 -0.226690 -0.478389  0.015834 -0.134279   \n",
       "168812  119395.0  1.423686 -0.697396 -2.285343  1.279685  0.566797 -0.581887   \n",
       "142547   84783.0 -0.961905  0.660210  2.020333  0.741632  0.790889 -0.159196   \n",
       "...          ...       ...       ...       ...       ...       ...       ...   \n",
       "279863  169142.0 -1.927883  1.125653 -4.518331  1.749293 -1.566487 -2.010494   \n",
       "280143  169347.0  1.378559  1.289381 -5.004247  1.411850  0.442581 -1.326536   \n",
       "280149  169351.0 -0.676143  1.126366 -2.213700  0.468308 -1.120541 -0.003346   \n",
       "281144  169966.0 -3.113832  0.585864 -5.399730  1.817092 -0.840618 -2.943548   \n",
       "281674  170348.0  1.991976  0.158476 -2.583441  0.408670  1.151147 -0.096695   \n",
       "\n",
       "              V7        V8        V9  ...       V21       V22       V23  \\\n",
       "265421 -0.118420 -0.125958  1.195359  ...  0.414974  0.372978 -0.153797   \n",
       "232972 -0.043787 -0.090115  0.677407  ...  0.273900  0.844092 -0.023770   \n",
       "110850 -0.078940 -0.067544  0.290997  ... -0.016195 -0.052330 -0.159845   \n",
       "168812  1.051402 -0.338990 -0.428299  ...  0.361313  0.367482 -0.252680   \n",
       "142547  0.773506 -0.160110 -0.218417  ... -0.085387  0.044290 -0.390744   \n",
       "...          ...       ...       ...  ...       ...       ...       ...   \n",
       "279863 -0.882850  0.697211 -2.064945  ...  0.778584 -0.319189  0.639419   \n",
       "280143 -1.413170  0.248525 -1.127396  ...  0.370612  0.028234 -0.145640   \n",
       "280149 -2.234739  1.210158 -0.652250  ...  0.751826  0.834108  0.190944   \n",
       "281144 -2.208002  1.058733 -1.632333  ...  0.583276 -0.269209 -0.456108   \n",
       "281674  0.223050 -0.068384  0.577829  ... -0.164350 -0.295135 -0.072173   \n",
       "\n",
       "             V24       V25       V26       V27       V28  Amount  Class  \n",
       "265421  0.065462 -0.481362  0.315983 -0.097225  0.022601  405.00      0  \n",
       "232972 -0.407890  0.190140 -0.089576 -0.029237 -0.075626    1.00      0  \n",
       "110850 -0.856115  0.351511  1.541157 -0.105145 -0.012500   39.99      0  \n",
       "168812  0.712799  0.321087 -0.567056 -0.098176 -0.012910  316.96      0  \n",
       "142547  0.097777  0.540312 -0.319564 -0.215023 -0.130371    5.56      0  \n",
       "...          ...       ...       ...       ...       ...     ...    ...  \n",
       "279863 -0.294885  0.537503  0.788395  0.292680  0.147968  390.00      1  \n",
       "280143 -0.081049  0.521875  0.739467  0.389152  0.186637    0.76      1  \n",
       "280149  0.032070 -0.739695  0.471111  0.385107  0.194361   77.89      1  \n",
       "281144 -0.183659 -0.328168  0.606116  0.884876 -0.253700  245.00      1  \n",
       "281674 -0.450261  0.313267 -0.289617  0.002988 -0.015309   42.53      1  \n",
       "\n",
       "[984 rows x 31 columns]"
      ]
     },
     "execution_count": 16,
     "metadata": {},
     "output_type": "execute_result"
    }
   ],
   "source": [
    "new_df"
   ]
  },
  {
   "cell_type": "code",
   "execution_count": 17,
   "id": "2ebbc1ea",
   "metadata": {
    "execution": {
     "iopub.execute_input": "2024-08-30T22:31:02.550664Z",
     "iopub.status.busy": "2024-08-30T22:31:02.550189Z",
     "iopub.status.idle": "2024-08-30T22:31:02.560669Z",
     "shell.execute_reply": "2024-08-30T22:31:02.559462Z"
    },
    "papermill": {
     "duration": 0.029425,
     "end_time": "2024-08-30T22:31:02.563278",
     "exception": false,
     "start_time": "2024-08-30T22:31:02.533853",
     "status": "completed"
    },
    "tags": []
   },
   "outputs": [
    {
     "data": {
      "text/plain": [
       "Class\n",
       "0    492\n",
       "1    492\n",
       "Name: count, dtype: int64"
      ]
     },
     "execution_count": 17,
     "metadata": {},
     "output_type": "execute_result"
    }
   ],
   "source": [
    "new_df.Class.value_counts()"
   ]
  },
  {
   "cell_type": "code",
   "execution_count": 18,
   "id": "2a8de7f8",
   "metadata": {
    "execution": {
     "iopub.execute_input": "2024-08-30T22:31:02.597105Z",
     "iopub.status.busy": "2024-08-30T22:31:02.596601Z",
     "iopub.status.idle": "2024-08-30T22:31:02.605547Z",
     "shell.execute_reply": "2024-08-30T22:31:02.603786Z"
    },
    "papermill": {
     "duration": 0.02893,
     "end_time": "2024-08-30T22:31:02.608422",
     "exception": false,
     "start_time": "2024-08-30T22:31:02.579492",
     "status": "completed"
    },
    "tags": []
   },
   "outputs": [],
   "source": [
    "new_df_gb=new_df.groupby(\"Class\").mean()"
   ]
  },
  {
   "cell_type": "code",
   "execution_count": 19,
   "id": "73252c1f",
   "metadata": {
    "execution": {
     "iopub.execute_input": "2024-08-30T22:31:02.641097Z",
     "iopub.status.busy": "2024-08-30T22:31:02.640611Z",
     "iopub.status.idle": "2024-08-30T22:31:02.668693Z",
     "shell.execute_reply": "2024-08-30T22:31:02.667394Z"
    },
    "papermill": {
     "duration": 0.047282,
     "end_time": "2024-08-30T22:31:02.671434",
     "exception": false,
     "start_time": "2024-08-30T22:31:02.624152",
     "status": "completed"
    },
    "tags": []
   },
   "outputs": [
    {
     "data": {
      "text/html": [
       "<div>\n",
       "<style scoped>\n",
       "    .dataframe tbody tr th:only-of-type {\n",
       "        vertical-align: middle;\n",
       "    }\n",
       "\n",
       "    .dataframe tbody tr th {\n",
       "        vertical-align: top;\n",
       "    }\n",
       "\n",
       "    .dataframe thead th {\n",
       "        text-align: right;\n",
       "    }\n",
       "</style>\n",
       "<table border=\"1\" class=\"dataframe\">\n",
       "  <thead>\n",
       "    <tr style=\"text-align: right;\">\n",
       "      <th></th>\n",
       "      <th>Time</th>\n",
       "      <th>V1</th>\n",
       "      <th>V2</th>\n",
       "      <th>V3</th>\n",
       "      <th>V4</th>\n",
       "      <th>V5</th>\n",
       "      <th>V6</th>\n",
       "      <th>V7</th>\n",
       "      <th>V8</th>\n",
       "      <th>V9</th>\n",
       "      <th>...</th>\n",
       "      <th>V20</th>\n",
       "      <th>V21</th>\n",
       "      <th>V22</th>\n",
       "      <th>V23</th>\n",
       "      <th>V24</th>\n",
       "      <th>V25</th>\n",
       "      <th>V26</th>\n",
       "      <th>V27</th>\n",
       "      <th>V28</th>\n",
       "      <th>Amount</th>\n",
       "    </tr>\n",
       "    <tr>\n",
       "      <th>Class</th>\n",
       "      <th></th>\n",
       "      <th></th>\n",
       "      <th></th>\n",
       "      <th></th>\n",
       "      <th></th>\n",
       "      <th></th>\n",
       "      <th></th>\n",
       "      <th></th>\n",
       "      <th></th>\n",
       "      <th></th>\n",
       "      <th></th>\n",
       "      <th></th>\n",
       "      <th></th>\n",
       "      <th></th>\n",
       "      <th></th>\n",
       "      <th></th>\n",
       "      <th></th>\n",
       "      <th></th>\n",
       "      <th></th>\n",
       "      <th></th>\n",
       "      <th></th>\n",
       "    </tr>\n",
       "  </thead>\n",
       "  <tbody>\n",
       "    <tr>\n",
       "      <th>0</th>\n",
       "      <td>91652.554878</td>\n",
       "      <td>-0.031150</td>\n",
       "      <td>-0.013942</td>\n",
       "      <td>0.075011</td>\n",
       "      <td>0.023852</td>\n",
       "      <td>-0.049860</td>\n",
       "      <td>0.181447</td>\n",
       "      <td>0.048632</td>\n",
       "      <td>-0.075187</td>\n",
       "      <td>0.089065</td>\n",
       "      <td>...</td>\n",
       "      <td>0.002742</td>\n",
       "      <td>0.084557</td>\n",
       "      <td>0.040603</td>\n",
       "      <td>0.016955</td>\n",
       "      <td>-0.025729</td>\n",
       "      <td>-0.005035</td>\n",
       "      <td>-0.005258</td>\n",
       "      <td>0.014873</td>\n",
       "      <td>-0.016233</td>\n",
       "      <td>107.415366</td>\n",
       "    </tr>\n",
       "    <tr>\n",
       "      <th>1</th>\n",
       "      <td>80746.806911</td>\n",
       "      <td>-4.771948</td>\n",
       "      <td>3.623778</td>\n",
       "      <td>-7.033281</td>\n",
       "      <td>4.542029</td>\n",
       "      <td>-3.151225</td>\n",
       "      <td>-1.397737</td>\n",
       "      <td>-5.568731</td>\n",
       "      <td>0.570636</td>\n",
       "      <td>-2.581123</td>\n",
       "      <td>...</td>\n",
       "      <td>0.372319</td>\n",
       "      <td>0.713588</td>\n",
       "      <td>0.014049</td>\n",
       "      <td>-0.040308</td>\n",
       "      <td>-0.105130</td>\n",
       "      <td>0.041449</td>\n",
       "      <td>0.051648</td>\n",
       "      <td>0.170575</td>\n",
       "      <td>0.075667</td>\n",
       "      <td>122.211321</td>\n",
       "    </tr>\n",
       "  </tbody>\n",
       "</table>\n",
       "<p>2 rows × 30 columns</p>\n",
       "</div>"
      ],
      "text/plain": [
       "               Time        V1        V2        V3        V4        V5  \\\n",
       "Class                                                                   \n",
       "0      91652.554878 -0.031150 -0.013942  0.075011  0.023852 -0.049860   \n",
       "1      80746.806911 -4.771948  3.623778 -7.033281  4.542029 -3.151225   \n",
       "\n",
       "             V6        V7        V8        V9  ...       V20       V21  \\\n",
       "Class                                          ...                       \n",
       "0      0.181447  0.048632 -0.075187  0.089065  ...  0.002742  0.084557   \n",
       "1     -1.397737 -5.568731  0.570636 -2.581123  ...  0.372319  0.713588   \n",
       "\n",
       "            V22       V23       V24       V25       V26       V27       V28  \\\n",
       "Class                                                                         \n",
       "0      0.040603  0.016955 -0.025729 -0.005035 -0.005258  0.014873 -0.016233   \n",
       "1      0.014049 -0.040308 -0.105130  0.041449  0.051648  0.170575  0.075667   \n",
       "\n",
       "           Amount  \n",
       "Class              \n",
       "0      107.415366  \n",
       "1      122.211321  \n",
       "\n",
       "[2 rows x 30 columns]"
      ]
     },
     "execution_count": 19,
     "metadata": {},
     "output_type": "execute_result"
    }
   ],
   "source": [
    "new_df_gb"
   ]
  },
  {
   "cell_type": "code",
   "execution_count": 20,
   "id": "5f57ff7e",
   "metadata": {
    "execution": {
     "iopub.execute_input": "2024-08-30T22:31:02.704105Z",
     "iopub.status.busy": "2024-08-30T22:31:02.703624Z",
     "iopub.status.idle": "2024-08-30T22:31:02.741420Z",
     "shell.execute_reply": "2024-08-30T22:31:02.739950Z"
    },
    "papermill": {
     "duration": 0.057233,
     "end_time": "2024-08-30T22:31:02.744102",
     "exception": false,
     "start_time": "2024-08-30T22:31:02.686869",
     "status": "completed"
    },
    "tags": []
   },
   "outputs": [
    {
     "data": {
      "text/html": [
       "<div>\n",
       "<style scoped>\n",
       "    .dataframe tbody tr th:only-of-type {\n",
       "        vertical-align: middle;\n",
       "    }\n",
       "\n",
       "    .dataframe tbody tr th {\n",
       "        vertical-align: top;\n",
       "    }\n",
       "\n",
       "    .dataframe thead th {\n",
       "        text-align: right;\n",
       "    }\n",
       "</style>\n",
       "<table border=\"1\" class=\"dataframe\">\n",
       "  <thead>\n",
       "    <tr style=\"text-align: right;\">\n",
       "      <th></th>\n",
       "      <th>Time</th>\n",
       "      <th>V1</th>\n",
       "      <th>V2</th>\n",
       "      <th>V3</th>\n",
       "      <th>V4</th>\n",
       "      <th>V5</th>\n",
       "      <th>V6</th>\n",
       "      <th>V7</th>\n",
       "      <th>V8</th>\n",
       "      <th>V9</th>\n",
       "      <th>...</th>\n",
       "      <th>V21</th>\n",
       "      <th>V22</th>\n",
       "      <th>V23</th>\n",
       "      <th>V24</th>\n",
       "      <th>V25</th>\n",
       "      <th>V26</th>\n",
       "      <th>V27</th>\n",
       "      <th>V28</th>\n",
       "      <th>Amount</th>\n",
       "      <th>Class</th>\n",
       "    </tr>\n",
       "  </thead>\n",
       "  <tbody>\n",
       "    <tr>\n",
       "      <th>265421</th>\n",
       "      <td>161877.0</td>\n",
       "      <td>1.227499</td>\n",
       "      <td>-1.693221</td>\n",
       "      <td>-0.744231</td>\n",
       "      <td>0.902453</td>\n",
       "      <td>-1.286335</td>\n",
       "      <td>-0.631515</td>\n",
       "      <td>-0.118420</td>\n",
       "      <td>-0.125958</td>\n",
       "      <td>1.195359</td>\n",
       "      <td>...</td>\n",
       "      <td>0.414974</td>\n",
       "      <td>0.372978</td>\n",
       "      <td>-0.153797</td>\n",
       "      <td>0.065462</td>\n",
       "      <td>-0.481362</td>\n",
       "      <td>0.315983</td>\n",
       "      <td>-0.097225</td>\n",
       "      <td>0.022601</td>\n",
       "      <td>405.00</td>\n",
       "      <td>0</td>\n",
       "    </tr>\n",
       "    <tr>\n",
       "      <th>232972</th>\n",
       "      <td>147391.0</td>\n",
       "      <td>2.041198</td>\n",
       "      <td>-0.218276</td>\n",
       "      <td>-1.405547</td>\n",
       "      <td>0.187570</td>\n",
       "      <td>0.001916</td>\n",
       "      <td>-0.781668</td>\n",
       "      <td>-0.043787</td>\n",
       "      <td>-0.090115</td>\n",
       "      <td>0.677407</td>\n",
       "      <td>...</td>\n",
       "      <td>0.273900</td>\n",
       "      <td>0.844092</td>\n",
       "      <td>-0.023770</td>\n",
       "      <td>-0.407890</td>\n",
       "      <td>0.190140</td>\n",
       "      <td>-0.089576</td>\n",
       "      <td>-0.029237</td>\n",
       "      <td>-0.075626</td>\n",
       "      <td>1.00</td>\n",
       "      <td>0</td>\n",
       "    </tr>\n",
       "    <tr>\n",
       "      <th>110850</th>\n",
       "      <td>71999.0</td>\n",
       "      <td>1.272090</td>\n",
       "      <td>-0.207350</td>\n",
       "      <td>-0.226690</td>\n",
       "      <td>-0.478389</td>\n",
       "      <td>0.015834</td>\n",
       "      <td>-0.134279</td>\n",
       "      <td>-0.078940</td>\n",
       "      <td>-0.067544</td>\n",
       "      <td>0.290997</td>\n",
       "      <td>...</td>\n",
       "      <td>-0.016195</td>\n",
       "      <td>-0.052330</td>\n",
       "      <td>-0.159845</td>\n",
       "      <td>-0.856115</td>\n",
       "      <td>0.351511</td>\n",
       "      <td>1.541157</td>\n",
       "      <td>-0.105145</td>\n",
       "      <td>-0.012500</td>\n",
       "      <td>39.99</td>\n",
       "      <td>0</td>\n",
       "    </tr>\n",
       "    <tr>\n",
       "      <th>168812</th>\n",
       "      <td>119395.0</td>\n",
       "      <td>1.423686</td>\n",
       "      <td>-0.697396</td>\n",
       "      <td>-2.285343</td>\n",
       "      <td>1.279685</td>\n",
       "      <td>0.566797</td>\n",
       "      <td>-0.581887</td>\n",
       "      <td>1.051402</td>\n",
       "      <td>-0.338990</td>\n",
       "      <td>-0.428299</td>\n",
       "      <td>...</td>\n",
       "      <td>0.361313</td>\n",
       "      <td>0.367482</td>\n",
       "      <td>-0.252680</td>\n",
       "      <td>0.712799</td>\n",
       "      <td>0.321087</td>\n",
       "      <td>-0.567056</td>\n",
       "      <td>-0.098176</td>\n",
       "      <td>-0.012910</td>\n",
       "      <td>316.96</td>\n",
       "      <td>0</td>\n",
       "    </tr>\n",
       "    <tr>\n",
       "      <th>142547</th>\n",
       "      <td>84783.0</td>\n",
       "      <td>-0.961905</td>\n",
       "      <td>0.660210</td>\n",
       "      <td>2.020333</td>\n",
       "      <td>0.741632</td>\n",
       "      <td>0.790889</td>\n",
       "      <td>-0.159196</td>\n",
       "      <td>0.773506</td>\n",
       "      <td>-0.160110</td>\n",
       "      <td>-0.218417</td>\n",
       "      <td>...</td>\n",
       "      <td>-0.085387</td>\n",
       "      <td>0.044290</td>\n",
       "      <td>-0.390744</td>\n",
       "      <td>0.097777</td>\n",
       "      <td>0.540312</td>\n",
       "      <td>-0.319564</td>\n",
       "      <td>-0.215023</td>\n",
       "      <td>-0.130371</td>\n",
       "      <td>5.56</td>\n",
       "      <td>0</td>\n",
       "    </tr>\n",
       "    <tr>\n",
       "      <th>...</th>\n",
       "      <td>...</td>\n",
       "      <td>...</td>\n",
       "      <td>...</td>\n",
       "      <td>...</td>\n",
       "      <td>...</td>\n",
       "      <td>...</td>\n",
       "      <td>...</td>\n",
       "      <td>...</td>\n",
       "      <td>...</td>\n",
       "      <td>...</td>\n",
       "      <td>...</td>\n",
       "      <td>...</td>\n",
       "      <td>...</td>\n",
       "      <td>...</td>\n",
       "      <td>...</td>\n",
       "      <td>...</td>\n",
       "      <td>...</td>\n",
       "      <td>...</td>\n",
       "      <td>...</td>\n",
       "      <td>...</td>\n",
       "      <td>...</td>\n",
       "    </tr>\n",
       "    <tr>\n",
       "      <th>279863</th>\n",
       "      <td>169142.0</td>\n",
       "      <td>-1.927883</td>\n",
       "      <td>1.125653</td>\n",
       "      <td>-4.518331</td>\n",
       "      <td>1.749293</td>\n",
       "      <td>-1.566487</td>\n",
       "      <td>-2.010494</td>\n",
       "      <td>-0.882850</td>\n",
       "      <td>0.697211</td>\n",
       "      <td>-2.064945</td>\n",
       "      <td>...</td>\n",
       "      <td>0.778584</td>\n",
       "      <td>-0.319189</td>\n",
       "      <td>0.639419</td>\n",
       "      <td>-0.294885</td>\n",
       "      <td>0.537503</td>\n",
       "      <td>0.788395</td>\n",
       "      <td>0.292680</td>\n",
       "      <td>0.147968</td>\n",
       "      <td>390.00</td>\n",
       "      <td>1</td>\n",
       "    </tr>\n",
       "    <tr>\n",
       "      <th>280143</th>\n",
       "      <td>169347.0</td>\n",
       "      <td>1.378559</td>\n",
       "      <td>1.289381</td>\n",
       "      <td>-5.004247</td>\n",
       "      <td>1.411850</td>\n",
       "      <td>0.442581</td>\n",
       "      <td>-1.326536</td>\n",
       "      <td>-1.413170</td>\n",
       "      <td>0.248525</td>\n",
       "      <td>-1.127396</td>\n",
       "      <td>...</td>\n",
       "      <td>0.370612</td>\n",
       "      <td>0.028234</td>\n",
       "      <td>-0.145640</td>\n",
       "      <td>-0.081049</td>\n",
       "      <td>0.521875</td>\n",
       "      <td>0.739467</td>\n",
       "      <td>0.389152</td>\n",
       "      <td>0.186637</td>\n",
       "      <td>0.76</td>\n",
       "      <td>1</td>\n",
       "    </tr>\n",
       "    <tr>\n",
       "      <th>280149</th>\n",
       "      <td>169351.0</td>\n",
       "      <td>-0.676143</td>\n",
       "      <td>1.126366</td>\n",
       "      <td>-2.213700</td>\n",
       "      <td>0.468308</td>\n",
       "      <td>-1.120541</td>\n",
       "      <td>-0.003346</td>\n",
       "      <td>-2.234739</td>\n",
       "      <td>1.210158</td>\n",
       "      <td>-0.652250</td>\n",
       "      <td>...</td>\n",
       "      <td>0.751826</td>\n",
       "      <td>0.834108</td>\n",
       "      <td>0.190944</td>\n",
       "      <td>0.032070</td>\n",
       "      <td>-0.739695</td>\n",
       "      <td>0.471111</td>\n",
       "      <td>0.385107</td>\n",
       "      <td>0.194361</td>\n",
       "      <td>77.89</td>\n",
       "      <td>1</td>\n",
       "    </tr>\n",
       "    <tr>\n",
       "      <th>281144</th>\n",
       "      <td>169966.0</td>\n",
       "      <td>-3.113832</td>\n",
       "      <td>0.585864</td>\n",
       "      <td>-5.399730</td>\n",
       "      <td>1.817092</td>\n",
       "      <td>-0.840618</td>\n",
       "      <td>-2.943548</td>\n",
       "      <td>-2.208002</td>\n",
       "      <td>1.058733</td>\n",
       "      <td>-1.632333</td>\n",
       "      <td>...</td>\n",
       "      <td>0.583276</td>\n",
       "      <td>-0.269209</td>\n",
       "      <td>-0.456108</td>\n",
       "      <td>-0.183659</td>\n",
       "      <td>-0.328168</td>\n",
       "      <td>0.606116</td>\n",
       "      <td>0.884876</td>\n",
       "      <td>-0.253700</td>\n",
       "      <td>245.00</td>\n",
       "      <td>1</td>\n",
       "    </tr>\n",
       "    <tr>\n",
       "      <th>281674</th>\n",
       "      <td>170348.0</td>\n",
       "      <td>1.991976</td>\n",
       "      <td>0.158476</td>\n",
       "      <td>-2.583441</td>\n",
       "      <td>0.408670</td>\n",
       "      <td>1.151147</td>\n",
       "      <td>-0.096695</td>\n",
       "      <td>0.223050</td>\n",
       "      <td>-0.068384</td>\n",
       "      <td>0.577829</td>\n",
       "      <td>...</td>\n",
       "      <td>-0.164350</td>\n",
       "      <td>-0.295135</td>\n",
       "      <td>-0.072173</td>\n",
       "      <td>-0.450261</td>\n",
       "      <td>0.313267</td>\n",
       "      <td>-0.289617</td>\n",
       "      <td>0.002988</td>\n",
       "      <td>-0.015309</td>\n",
       "      <td>42.53</td>\n",
       "      <td>1</td>\n",
       "    </tr>\n",
       "  </tbody>\n",
       "</table>\n",
       "<p>984 rows × 31 columns</p>\n",
       "</div>"
      ],
      "text/plain": [
       "            Time        V1        V2        V3        V4        V5        V6  \\\n",
       "265421  161877.0  1.227499 -1.693221 -0.744231  0.902453 -1.286335 -0.631515   \n",
       "232972  147391.0  2.041198 -0.218276 -1.405547  0.187570  0.001916 -0.781668   \n",
       "110850   71999.0  1.272090 -0.207350 -0.226690 -0.478389  0.015834 -0.134279   \n",
       "168812  119395.0  1.423686 -0.697396 -2.285343  1.279685  0.566797 -0.581887   \n",
       "142547   84783.0 -0.961905  0.660210  2.020333  0.741632  0.790889 -0.159196   \n",
       "...          ...       ...       ...       ...       ...       ...       ...   \n",
       "279863  169142.0 -1.927883  1.125653 -4.518331  1.749293 -1.566487 -2.010494   \n",
       "280143  169347.0  1.378559  1.289381 -5.004247  1.411850  0.442581 -1.326536   \n",
       "280149  169351.0 -0.676143  1.126366 -2.213700  0.468308 -1.120541 -0.003346   \n",
       "281144  169966.0 -3.113832  0.585864 -5.399730  1.817092 -0.840618 -2.943548   \n",
       "281674  170348.0  1.991976  0.158476 -2.583441  0.408670  1.151147 -0.096695   \n",
       "\n",
       "              V7        V8        V9  ...       V21       V22       V23  \\\n",
       "265421 -0.118420 -0.125958  1.195359  ...  0.414974  0.372978 -0.153797   \n",
       "232972 -0.043787 -0.090115  0.677407  ...  0.273900  0.844092 -0.023770   \n",
       "110850 -0.078940 -0.067544  0.290997  ... -0.016195 -0.052330 -0.159845   \n",
       "168812  1.051402 -0.338990 -0.428299  ...  0.361313  0.367482 -0.252680   \n",
       "142547  0.773506 -0.160110 -0.218417  ... -0.085387  0.044290 -0.390744   \n",
       "...          ...       ...       ...  ...       ...       ...       ...   \n",
       "279863 -0.882850  0.697211 -2.064945  ...  0.778584 -0.319189  0.639419   \n",
       "280143 -1.413170  0.248525 -1.127396  ...  0.370612  0.028234 -0.145640   \n",
       "280149 -2.234739  1.210158 -0.652250  ...  0.751826  0.834108  0.190944   \n",
       "281144 -2.208002  1.058733 -1.632333  ...  0.583276 -0.269209 -0.456108   \n",
       "281674  0.223050 -0.068384  0.577829  ... -0.164350 -0.295135 -0.072173   \n",
       "\n",
       "             V24       V25       V26       V27       V28  Amount  Class  \n",
       "265421  0.065462 -0.481362  0.315983 -0.097225  0.022601  405.00      0  \n",
       "232972 -0.407890  0.190140 -0.089576 -0.029237 -0.075626    1.00      0  \n",
       "110850 -0.856115  0.351511  1.541157 -0.105145 -0.012500   39.99      0  \n",
       "168812  0.712799  0.321087 -0.567056 -0.098176 -0.012910  316.96      0  \n",
       "142547  0.097777  0.540312 -0.319564 -0.215023 -0.130371    5.56      0  \n",
       "...          ...       ...       ...       ...       ...     ...    ...  \n",
       "279863 -0.294885  0.537503  0.788395  0.292680  0.147968  390.00      1  \n",
       "280143 -0.081049  0.521875  0.739467  0.389152  0.186637    0.76      1  \n",
       "280149  0.032070 -0.739695  0.471111  0.385107  0.194361   77.89      1  \n",
       "281144 -0.183659 -0.328168  0.606116  0.884876 -0.253700  245.00      1  \n",
       "281674 -0.450261  0.313267 -0.289617  0.002988 -0.015309   42.53      1  \n",
       "\n",
       "[984 rows x 31 columns]"
      ]
     },
     "execution_count": 20,
     "metadata": {},
     "output_type": "execute_result"
    }
   ],
   "source": [
    "new_df"
   ]
  },
  {
   "cell_type": "markdown",
   "id": "0055fe95",
   "metadata": {
    "papermill": {
     "duration": 0.015606,
     "end_time": "2024-08-30T22:31:02.775880",
     "exception": false,
     "start_time": "2024-08-30T22:31:02.760274",
     "status": "completed"
    },
    "tags": []
   },
   "source": [
    "Spliting the data into features and target"
   ]
  },
  {
   "cell_type": "code",
   "execution_count": 21,
   "id": "9262849b",
   "metadata": {
    "execution": {
     "iopub.execute_input": "2024-08-30T22:31:02.810152Z",
     "iopub.status.busy": "2024-08-30T22:31:02.809646Z",
     "iopub.status.idle": "2024-08-30T22:31:02.817200Z",
     "shell.execute_reply": "2024-08-30T22:31:02.815946Z"
    },
    "papermill": {
     "duration": 0.028483,
     "end_time": "2024-08-30T22:31:02.820198",
     "exception": false,
     "start_time": "2024-08-30T22:31:02.791715",
     "status": "completed"
    },
    "tags": []
   },
   "outputs": [],
   "source": [
    "x=new_df.drop(columns='Class',axis=1)\n",
    "y=new_df[\"Class\"]"
   ]
  },
  {
   "cell_type": "code",
   "execution_count": 22,
   "id": "26f25532",
   "metadata": {
    "execution": {
     "iopub.execute_input": "2024-08-30T22:31:02.856631Z",
     "iopub.status.busy": "2024-08-30T22:31:02.856119Z",
     "iopub.status.idle": "2024-08-30T22:31:02.866829Z",
     "shell.execute_reply": "2024-08-30T22:31:02.865525Z"
    },
    "papermill": {
     "duration": 0.03309,
     "end_time": "2024-08-30T22:31:02.869941",
     "exception": false,
     "start_time": "2024-08-30T22:31:02.836851",
     "status": "completed"
    },
    "tags": []
   },
   "outputs": [],
   "source": [
    "x_train, x_test, y_train, y_test = train_test_split(x, y, test_size=0.2, stratify=y, random_state=2)"
   ]
  },
  {
   "cell_type": "code",
   "execution_count": 23,
   "id": "1992f862",
   "metadata": {
    "execution": {
     "iopub.execute_input": "2024-08-30T22:31:02.904668Z",
     "iopub.status.busy": "2024-08-30T22:31:02.904197Z",
     "iopub.status.idle": "2024-08-30T22:31:02.911046Z",
     "shell.execute_reply": "2024-08-30T22:31:02.909474Z"
    },
    "papermill": {
     "duration": 0.02697,
     "end_time": "2024-08-30T22:31:02.913819",
     "exception": false,
     "start_time": "2024-08-30T22:31:02.886849",
     "status": "completed"
    },
    "tags": []
   },
   "outputs": [
    {
     "name": "stdout",
     "output_type": "stream",
     "text": [
      "(984, 30) (787, 30) (197, 30)\n"
     ]
    }
   ],
   "source": [
    "print(x.shape, x_train.shape, x_test.shape)"
   ]
  },
  {
   "cell_type": "code",
   "execution_count": 24,
   "id": "0f3e7f5e",
   "metadata": {
    "execution": {
     "iopub.execute_input": "2024-08-30T22:31:02.948745Z",
     "iopub.status.busy": "2024-08-30T22:31:02.948286Z",
     "iopub.status.idle": "2024-08-30T22:31:02.954484Z",
     "shell.execute_reply": "2024-08-30T22:31:02.952934Z"
    },
    "papermill": {
     "duration": 0.02649,
     "end_time": "2024-08-30T22:31:02.957317",
     "exception": false,
     "start_time": "2024-08-30T22:31:02.930827",
     "status": "completed"
    },
    "tags": []
   },
   "outputs": [],
   "source": [
    "model = LogisticRegression()"
   ]
  },
  {
   "cell_type": "code",
   "execution_count": 25,
   "id": "9b514e88",
   "metadata": {
    "execution": {
     "iopub.execute_input": "2024-08-30T22:31:02.991471Z",
     "iopub.status.busy": "2024-08-30T22:31:02.990966Z",
     "iopub.status.idle": "2024-08-30T22:31:03.091151Z",
     "shell.execute_reply": "2024-08-30T22:31:03.089545Z"
    },
    "papermill": {
     "duration": 0.124663,
     "end_time": "2024-08-30T22:31:03.098036",
     "exception": false,
     "start_time": "2024-08-30T22:31:02.973373",
     "status": "completed"
    },
    "tags": []
   },
   "outputs": [
    {
     "name": "stderr",
     "output_type": "stream",
     "text": [
      "/opt/conda/lib/python3.10/site-packages/sklearn/linear_model/_logistic.py:458: ConvergenceWarning: lbfgs failed to converge (status=1):\n",
      "STOP: TOTAL NO. of ITERATIONS REACHED LIMIT.\n",
      "\n",
      "Increase the number of iterations (max_iter) or scale the data as shown in:\n",
      "    https://scikit-learn.org/stable/modules/preprocessing.html\n",
      "Please also refer to the documentation for alternative solver options:\n",
      "    https://scikit-learn.org/stable/modules/linear_model.html#logistic-regression\n",
      "  n_iter_i = _check_optimize_result(\n"
     ]
    },
    {
     "data": {
      "text/html": [
       "<style>#sk-container-id-1 {color: black;background-color: white;}#sk-container-id-1 pre{padding: 0;}#sk-container-id-1 div.sk-toggleable {background-color: white;}#sk-container-id-1 label.sk-toggleable__label {cursor: pointer;display: block;width: 100%;margin-bottom: 0;padding: 0.3em;box-sizing: border-box;text-align: center;}#sk-container-id-1 label.sk-toggleable__label-arrow:before {content: \"▸\";float: left;margin-right: 0.25em;color: #696969;}#sk-container-id-1 label.sk-toggleable__label-arrow:hover:before {color: black;}#sk-container-id-1 div.sk-estimator:hover label.sk-toggleable__label-arrow:before {color: black;}#sk-container-id-1 div.sk-toggleable__content {max-height: 0;max-width: 0;overflow: hidden;text-align: left;background-color: #f0f8ff;}#sk-container-id-1 div.sk-toggleable__content pre {margin: 0.2em;color: black;border-radius: 0.25em;background-color: #f0f8ff;}#sk-container-id-1 input.sk-toggleable__control:checked~div.sk-toggleable__content {max-height: 200px;max-width: 100%;overflow: auto;}#sk-container-id-1 input.sk-toggleable__control:checked~label.sk-toggleable__label-arrow:before {content: \"▾\";}#sk-container-id-1 div.sk-estimator input.sk-toggleable__control:checked~label.sk-toggleable__label {background-color: #d4ebff;}#sk-container-id-1 div.sk-label input.sk-toggleable__control:checked~label.sk-toggleable__label {background-color: #d4ebff;}#sk-container-id-1 input.sk-hidden--visually {border: 0;clip: rect(1px 1px 1px 1px);clip: rect(1px, 1px, 1px, 1px);height: 1px;margin: -1px;overflow: hidden;padding: 0;position: absolute;width: 1px;}#sk-container-id-1 div.sk-estimator {font-family: monospace;background-color: #f0f8ff;border: 1px dotted black;border-radius: 0.25em;box-sizing: border-box;margin-bottom: 0.5em;}#sk-container-id-1 div.sk-estimator:hover {background-color: #d4ebff;}#sk-container-id-1 div.sk-parallel-item::after {content: \"\";width: 100%;border-bottom: 1px solid gray;flex-grow: 1;}#sk-container-id-1 div.sk-label:hover label.sk-toggleable__label {background-color: #d4ebff;}#sk-container-id-1 div.sk-serial::before {content: \"\";position: absolute;border-left: 1px solid gray;box-sizing: border-box;top: 0;bottom: 0;left: 50%;z-index: 0;}#sk-container-id-1 div.sk-serial {display: flex;flex-direction: column;align-items: center;background-color: white;padding-right: 0.2em;padding-left: 0.2em;position: relative;}#sk-container-id-1 div.sk-item {position: relative;z-index: 1;}#sk-container-id-1 div.sk-parallel {display: flex;align-items: stretch;justify-content: center;background-color: white;position: relative;}#sk-container-id-1 div.sk-item::before, #sk-container-id-1 div.sk-parallel-item::before {content: \"\";position: absolute;border-left: 1px solid gray;box-sizing: border-box;top: 0;bottom: 0;left: 50%;z-index: -1;}#sk-container-id-1 div.sk-parallel-item {display: flex;flex-direction: column;z-index: 1;position: relative;background-color: white;}#sk-container-id-1 div.sk-parallel-item:first-child::after {align-self: flex-end;width: 50%;}#sk-container-id-1 div.sk-parallel-item:last-child::after {align-self: flex-start;width: 50%;}#sk-container-id-1 div.sk-parallel-item:only-child::after {width: 0;}#sk-container-id-1 div.sk-dashed-wrapped {border: 1px dashed gray;margin: 0 0.4em 0.5em 0.4em;box-sizing: border-box;padding-bottom: 0.4em;background-color: white;}#sk-container-id-1 div.sk-label label {font-family: monospace;font-weight: bold;display: inline-block;line-height: 1.2em;}#sk-container-id-1 div.sk-label-container {text-align: center;}#sk-container-id-1 div.sk-container {/* jupyter's `normalize.less` sets `[hidden] { display: none; }` but bootstrap.min.css set `[hidden] { display: none !important; }` so we also need the `!important` here to be able to override the default hidden behavior on the sphinx rendered scikit-learn.org. See: https://github.com/scikit-learn/scikit-learn/issues/21755 */display: inline-block !important;position: relative;}#sk-container-id-1 div.sk-text-repr-fallback {display: none;}</style><div id=\"sk-container-id-1\" class=\"sk-top-container\"><div class=\"sk-text-repr-fallback\"><pre>LogisticRegression()</pre><b>In a Jupyter environment, please rerun this cell to show the HTML representation or trust the notebook. <br />On GitHub, the HTML representation is unable to render, please try loading this page with nbviewer.org.</b></div><div class=\"sk-container\" hidden><div class=\"sk-item\"><div class=\"sk-estimator sk-toggleable\"><input class=\"sk-toggleable__control sk-hidden--visually\" id=\"sk-estimator-id-1\" type=\"checkbox\" checked><label for=\"sk-estimator-id-1\" class=\"sk-toggleable__label sk-toggleable__label-arrow\">LogisticRegression</label><div class=\"sk-toggleable__content\"><pre>LogisticRegression()</pre></div></div></div></div></div>"
      ],
      "text/plain": [
       "LogisticRegression()"
      ]
     },
     "execution_count": 25,
     "metadata": {},
     "output_type": "execute_result"
    }
   ],
   "source": [
    "model.fit(x_train, y_train)"
   ]
  },
  {
   "cell_type": "code",
   "execution_count": 26,
   "id": "dd6d4225",
   "metadata": {
    "execution": {
     "iopub.execute_input": "2024-08-30T22:31:03.170974Z",
     "iopub.status.busy": "2024-08-30T22:31:03.170196Z",
     "iopub.status.idle": "2024-08-30T22:31:03.189283Z",
     "shell.execute_reply": "2024-08-30T22:31:03.187561Z"
    },
    "papermill": {
     "duration": 0.06131,
     "end_time": "2024-08-30T22:31:03.194583",
     "exception": false,
     "start_time": "2024-08-30T22:31:03.133273",
     "status": "completed"
    },
    "tags": []
   },
   "outputs": [],
   "source": [
    "# accuracy on training data\n",
    "x_train_prediction = model.predict(x_train)\n",
    "training_data_accuracy = accuracy_score(x_train_prediction, y_train)"
   ]
  },
  {
   "cell_type": "code",
   "execution_count": 27,
   "id": "eab5d872",
   "metadata": {
    "execution": {
     "iopub.execute_input": "2024-08-30T22:31:03.268712Z",
     "iopub.status.busy": "2024-08-30T22:31:03.267897Z",
     "iopub.status.idle": "2024-08-30T22:31:03.277567Z",
     "shell.execute_reply": "2024-08-30T22:31:03.275866Z"
    },
    "papermill": {
     "duration": 0.054235,
     "end_time": "2024-08-30T22:31:03.283507",
     "exception": false,
     "start_time": "2024-08-30T22:31:03.229272",
     "status": "completed"
    },
    "tags": []
   },
   "outputs": [
    {
     "name": "stdout",
     "output_type": "stream",
     "text": [
      "Accuracy on Training data : , 0.9415501905972046\n"
     ]
    }
   ],
   "source": [
    "print(f'Accuracy on Training data : , {training_data_accuracy}')\n"
   ]
  },
  {
   "cell_type": "code",
   "execution_count": 28,
   "id": "36c43388",
   "metadata": {
    "execution": {
     "iopub.execute_input": "2024-08-30T22:31:03.328316Z",
     "iopub.status.busy": "2024-08-30T22:31:03.327762Z",
     "iopub.status.idle": "2024-08-30T22:31:03.337857Z",
     "shell.execute_reply": "2024-08-30T22:31:03.336629Z"
    },
    "papermill": {
     "duration": 0.031241,
     "end_time": "2024-08-30T22:31:03.340587",
     "exception": false,
     "start_time": "2024-08-30T22:31:03.309346",
     "status": "completed"
    },
    "tags": []
   },
   "outputs": [],
   "source": [
    "# accuracy on test data\n",
    "x_test_prediction = model.predict(x_test)\n",
    "test_data_accuracy = accuracy_score(x_test_prediction, y_test)"
   ]
  },
  {
   "cell_type": "code",
   "execution_count": 29,
   "id": "fd5ee3ab",
   "metadata": {
    "execution": {
     "iopub.execute_input": "2024-08-30T22:31:03.376122Z",
     "iopub.status.busy": "2024-08-30T22:31:03.375648Z",
     "iopub.status.idle": "2024-08-30T22:31:03.382736Z",
     "shell.execute_reply": "2024-08-30T22:31:03.381133Z"
    },
    "papermill": {
     "duration": 0.028478,
     "end_time": "2024-08-30T22:31:03.385788",
     "exception": false,
     "start_time": "2024-08-30T22:31:03.357310",
     "status": "completed"
    },
    "tags": []
   },
   "outputs": [
    {
     "name": "stdout",
     "output_type": "stream",
     "text": [
      "Accuracy score on Test Data : , 0.9086294416243654\n"
     ]
    }
   ],
   "source": [
    "print(f'Accuracy score on Test Data : , {test_data_accuracy}')"
   ]
  },
  {
   "cell_type": "code",
   "execution_count": 30,
   "id": "364727da",
   "metadata": {
    "execution": {
     "iopub.execute_input": "2024-08-30T22:31:03.421889Z",
     "iopub.status.busy": "2024-08-30T22:31:03.421443Z",
     "iopub.status.idle": "2024-08-30T22:31:03.562216Z",
     "shell.execute_reply": "2024-08-30T22:31:03.560467Z"
    },
    "papermill": {
     "duration": 0.162545,
     "end_time": "2024-08-30T22:31:03.565439",
     "exception": false,
     "start_time": "2024-08-30T22:31:03.402894",
     "status": "completed"
    },
    "tags": []
   },
   "outputs": [
    {
     "name": "stdout",
     "output_type": "stream",
     "text": [
      "Minimum Values:\n",
      " Time      406.000000\n",
      "V1        -30.552380\n",
      "V2        -19.230653\n",
      "V3        -31.103685\n",
      "V4         -4.381252\n",
      "V5        -22.105532\n",
      "V6         -7.216809\n",
      "V7        -43.557242\n",
      "V8        -41.044261\n",
      "V9        -13.434066\n",
      "V10       -24.588262\n",
      "V11        -2.439501\n",
      "V12       -18.683715\n",
      "V13        -3.127795\n",
      "V14       -19.214325\n",
      "V15        -4.498945\n",
      "V16       -14.129855\n",
      "V17       -25.162799\n",
      "V18        -9.498746\n",
      "V19        -3.681904\n",
      "V20        -4.128186\n",
      "V21       -22.797604\n",
      "V22        -8.887017\n",
      "V23       -19.254328\n",
      "V24        -2.028024\n",
      "V25        -4.781606\n",
      "V26        -1.152671\n",
      "V27        -7.263482\n",
      "V28        -4.455921\n",
      "Amount      0.000000\n",
      "Class       0.000000\n",
      "Name: min, dtype: float64\n",
      "\n",
      "Maximum Values:\n",
      " Time      171858.000000\n",
      "V1             2.256732\n",
      "V2            22.057729\n",
      "V3             3.511429\n",
      "V4            12.114672\n",
      "V5            11.095089\n",
      "V6            12.128950\n",
      "V7            26.237722\n",
      "V8            20.007208\n",
      "V9             6.956877\n",
      "V10           10.908217\n",
      "V11           12.018913\n",
      "V12            2.430510\n",
      "V13            2.966164\n",
      "V14            3.442422\n",
      "V15            2.860078\n",
      "V16            3.139656\n",
      "V17            6.739384\n",
      "V18            3.790316\n",
      "V19            5.228342\n",
      "V20           16.436920\n",
      "V21           27.202839\n",
      "V22            8.361985\n",
      "V23           17.606637\n",
      "V24            1.172096\n",
      "V25            3.410742\n",
      "V26            2.745261\n",
      "V27            3.052358\n",
      "V28            1.779364\n",
      "Amount      7541.700000\n",
      "Class          1.000000\n",
      "Name: max, dtype: float64\n"
     ]
    }
   ],
   "source": [
    "min_values = new_df.describe().loc['min']\n",
    "max_values = new_df.describe().loc['max']\n",
    "\n",
    "print(\"Minimum Values:\\n\", min_values)\n",
    "print(\"\\nMaximum Values:\\n\", max_values)"
   ]
  },
  {
   "cell_type": "code",
   "execution_count": 31,
   "id": "37a8021c",
   "metadata": {
    "execution": {
     "iopub.execute_input": "2024-08-30T22:31:03.604828Z",
     "iopub.status.busy": "2024-08-30T22:31:03.604203Z",
     "iopub.status.idle": "2024-08-30T22:31:03.618354Z",
     "shell.execute_reply": "2024-08-30T22:31:03.616964Z"
    },
    "papermill": {
     "duration": 0.037879,
     "end_time": "2024-08-30T22:31:03.621711",
     "exception": false,
     "start_time": "2024-08-30T22:31:03.583832",
     "status": "completed"
    },
    "tags": []
   },
   "outputs": [],
   "source": [
    "# Define the minimum and maximum values for each feature\n",
    "min_values = {\n",
    "    'Time': 266.000000, 'V1': -30.552380, 'V2': -14.505648, 'V3': -31.103685, 'V4': -4.399240, \n",
    "    'V5': -22.105532, 'V6': -10.136371, 'V7': -43.557242, 'V8': -41.044261, 'V9': -13.434066, \n",
    "    'V10': -24.588262, 'V11': -2.759528, 'V12': -18.683715, 'V13': -3.127795, 'V14': -19.214325, \n",
    "    'V15': -4.498945, 'V16': -14.129855, 'V17': -25.162799, 'V18': -9.498746, 'V19': -3.681904, \n",
    "    'V20': -7.642808, 'V21': -22.797604, 'V22': -8.887017, 'V23': -19.254328, 'V24': -2.100164, \n",
    "    'V25': -4.781606, 'V26': -1.443139, 'V27': -7.263482, 'V28': -8.307955, 'Amount': 0.000000\n",
    "}\n",
    "\n",
    "max_values = {\n",
    "    'Time': 172575.000000, 'V1': 2.353031, 'V2': 22.057729, 'V3': 3.358655, 'V4': 12.114672, \n",
    "    'V5': 13.367253, 'V6': 6.474115, 'V7': 5.802537, 'V8': 20.007208, 'V9': 4.619855, \n",
    "    'V10': 6.982557, 'V11': 12.018913, 'V12': 2.660866, 'V13': 3.494972, 'V14': 4.047301, \n",
    "    'V15': 2.471358, 'V16': 3.139656, 'V17': 6.739384, 'V18': 3.790316, 'V19': 5.228342, \n",
    "    'V20': 11.059004, 'V21': 27.202839, 'V22': 8.361985, 'V23': 5.466230, 'V24': 1.237015, \n",
    "    'V25': 2.208209, 'V26': 2.745261, 'V27': 4.610936, 'V28': 4.106596, 'Amount': 2290.050000\n",
    "}\n"
   ]
  },
  {
   "cell_type": "code",
   "execution_count": 32,
   "id": "add0e457",
   "metadata": {
    "execution": {
     "iopub.execute_input": "2024-08-30T22:31:03.658475Z",
     "iopub.status.busy": "2024-08-30T22:31:03.657347Z",
     "iopub.status.idle": "2024-08-30T22:31:03.665087Z",
     "shell.execute_reply": "2024-08-30T22:31:03.663471Z"
    },
    "papermill": {
     "duration": 0.029227,
     "end_time": "2024-08-30T22:31:03.667939",
     "exception": false,
     "start_time": "2024-08-30T22:31:03.638712",
     "status": "completed"
    },
    "tags": []
   },
   "outputs": [],
   "source": [
    "# Function to generate a random number between min and max values\n",
    "def generate_random_data(min_vals, max_vals):\n",
    "    data = {feature: np.random.uniform(min_vals[feature], max_vals[feature]) for feature in min_vals}\n",
    "    return pd.DataFrame([data])"
   ]
  },
  {
   "cell_type": "code",
   "execution_count": 33,
   "id": "205201e1",
   "metadata": {
    "execution": {
     "iopub.execute_input": "2024-08-30T22:31:03.705907Z",
     "iopub.status.busy": "2024-08-30T22:31:03.704015Z",
     "iopub.status.idle": "2024-08-30T22:31:03.712719Z",
     "shell.execute_reply": "2024-08-30T22:31:03.711177Z"
    },
    "papermill": {
     "duration": 0.029901,
     "end_time": "2024-08-30T22:31:03.715347",
     "exception": false,
     "start_time": "2024-08-30T22:31:03.685446",
     "status": "completed"
    },
    "tags": []
   },
   "outputs": [],
   "source": [
    "new_data_df = generate_random_data(min_values, max_values)"
   ]
  },
  {
   "cell_type": "code",
   "execution_count": 34,
   "id": "8519a986",
   "metadata": {
    "execution": {
     "iopub.execute_input": "2024-08-30T22:31:03.752148Z",
     "iopub.status.busy": "2024-08-30T22:31:03.751652Z",
     "iopub.status.idle": "2024-08-30T22:31:03.761791Z",
     "shell.execute_reply": "2024-08-30T22:31:03.760316Z"
    },
    "papermill": {
     "duration": 0.032329,
     "end_time": "2024-08-30T22:31:03.765191",
     "exception": false,
     "start_time": "2024-08-30T22:31:03.732862",
     "status": "completed"
    },
    "tags": []
   },
   "outputs": [
    {
     "name": "stdout",
     "output_type": "stream",
     "text": [
      "The transaction is fraudulent.\n"
     ]
    }
   ],
   "source": [
    "prediction = model.predict(new_data_df)\n",
    "\n",
    "# Print the prediction\n",
    "if prediction[0] == 1:\n",
    "    print(\"The transaction is fraudulent.\")\n",
    "else:\n",
    "    print(\"The transaction is not fraudulent.\")"
   ]
  },
  {
   "cell_type": "code",
   "execution_count": null,
   "id": "af5bb71c",
   "metadata": {
    "papermill": {
     "duration": 0.016826,
     "end_time": "2024-08-30T22:31:03.799234",
     "exception": false,
     "start_time": "2024-08-30T22:31:03.782408",
     "status": "completed"
    },
    "tags": []
   },
   "outputs": [],
   "source": []
  },
  {
   "cell_type": "code",
   "execution_count": null,
   "id": "99114b42",
   "metadata": {
    "papermill": {
     "duration": 0.01758,
     "end_time": "2024-08-30T22:31:03.833797",
     "exception": false,
     "start_time": "2024-08-30T22:31:03.816217",
     "status": "completed"
    },
    "tags": []
   },
   "outputs": [],
   "source": []
  }
 ],
 "metadata": {
  "kaggle": {
   "accelerator": "none",
   "dataSources": [
    {
     "datasetId": 310,
     "sourceId": 23498,
     "sourceType": "datasetVersion"
    }
   ],
   "dockerImageVersionId": 30761,
   "isGpuEnabled": false,
   "isInternetEnabled": true,
   "language": "python",
   "sourceType": "notebook"
  },
  "kernelspec": {
   "display_name": "Python 3",
   "language": "python",
   "name": "python3"
  },
  "language_info": {
   "codemirror_mode": {
    "name": "ipython",
    "version": 3
   },
   "file_extension": ".py",
   "mimetype": "text/x-python",
   "name": "python",
   "nbconvert_exporter": "python",
   "pygments_lexer": "ipython3",
   "version": "3.10.14"
  },
  "papermill": {
   "default_parameters": {},
   "duration": 14.493047,
   "end_time": "2024-08-30T22:31:04.574498",
   "environment_variables": {},
   "exception": null,
   "input_path": "__notebook__.ipynb",
   "output_path": "__notebook__.ipynb",
   "parameters": {},
   "start_time": "2024-08-30T22:30:50.081451",
   "version": "2.6.0"
  }
 },
 "nbformat": 4,
 "nbformat_minor": 5
}
